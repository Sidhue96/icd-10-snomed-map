{
 "cells": [
  {
   "cell_type": "code",
   "execution_count": 1,
   "metadata": {},
   "outputs": [],
   "source": [
    "from __future__ import print_function\n",
    "import pandas as pd\n",
    "from sklearn.feature_extraction.text import CountVectorizer\n",
    "import csv"
   ]
  },
  {
   "cell_type": "code",
   "execution_count": 2,
   "metadata": {},
   "outputs": [],
   "source": [
    "vect = CountVectorizer()"
   ]
  },
  {
   "cell_type": "markdown",
   "metadata": {},
   "source": [
    "data_feature = []\n",
    "data_class = []\n",
    "with open('train.csv') as csvfile:\n",
    "    reader = csv.DictReader(csvfile)\n",
    "    for row in reader:\n",
    "        data_feature.append(row['Descript'])\n",
    "        data_class.append(row['Category'])\n",
    "    csvfile.close()"
   ]
  },
  {
   "cell_type": "code",
   "execution_count": 4,
   "metadata": {},
   "outputs": [
    {
     "data": {
      "text/plain": [
       "90490"
      ]
     },
     "execution_count": 4,
     "metadata": {},
     "output_type": "execute_result"
    }
   ],
   "source": [
    "len(data_class)"
   ]
  },
  {
   "cell_type": "code",
   "execution_count": 5,
   "metadata": {
    "scrolled": true
   },
   "outputs": [
    {
     "data": {
      "text/plain": [
       "['.8 MM DIA VERT  .5 MM DIA HORZ Choroidal nevus',\n",
       " '() Chronic Central Serous Chorioretinopathy',\n",
       " '() Neovascular AMD',\n",
       " '(2) Atrophic Retinal Holes',\n",
       " '(2) Horseshoe Tears  s/p laser 2002',\n",
       " '(2) Treated Retinal Tears  s/p Barrier Laser on 12/23/2014',\n",
       " '(2) Treated Retinal Tears  s/p laser demarcation #2 on 2/2/2018',\n",
       " '(2nd) Retinal Detachment',\n",
       " '(3) Treated horseshoe retinal tears  s/p Laser demarcation 10/5/2017',\n",
       " '(3) Treated Retinal Tears  each associated with a localized retinal detachment  s/p laser #2 on 01/28/2016']"
      ]
     },
     "execution_count": 5,
     "metadata": {},
     "output_type": "execute_result"
    }
   ],
   "source": [
    "data_feature[:10]"
   ]
  },
  {
   "cell_type": "code",
   "execution_count": 6,
   "metadata": {},
   "outputs": [
    {
     "data": {
      "text/plain": [
       "['D31.32',\n",
       " 'H35.712',\n",
       " 'H35.32',\n",
       " 'H33.323',\n",
       " 'H33.311',\n",
       " 'H33.301',\n",
       " 'H33.301',\n",
       " 'H33.001',\n",
       " 'H33.311',\n",
       " 'H33.301']"
      ]
     },
     "execution_count": 6,
     "metadata": {},
     "output_type": "execute_result"
    }
   ],
   "source": [
    "data_class[:10]"
   ]
  },
  {
   "cell_type": "code",
   "execution_count": 7,
   "metadata": {},
   "outputs": [],
   "source": [
    "df = pd.DataFrame({\n",
    "    'label' : data_class,\n",
    "    'message' : data_feature\n",
    "})"
   ]
  },
  {
   "cell_type": "code",
   "execution_count": 8,
   "metadata": {
    "scrolled": true
   },
   "outputs": [
    {
     "data": {
      "text/html": [
       "<div>\n",
       "<style scoped>\n",
       "    .dataframe tbody tr th:only-of-type {\n",
       "        vertical-align: middle;\n",
       "    }\n",
       "\n",
       "    .dataframe tbody tr th {\n",
       "        vertical-align: top;\n",
       "    }\n",
       "\n",
       "    .dataframe thead th {\n",
       "        text-align: right;\n",
       "    }\n",
       "</style>\n",
       "<table border=\"1\" class=\"dataframe\">\n",
       "  <thead>\n",
       "    <tr style=\"text-align: right;\">\n",
       "      <th></th>\n",
       "      <th>label</th>\n",
       "      <th>message</th>\n",
       "    </tr>\n",
       "  </thead>\n",
       "  <tbody>\n",
       "    <tr>\n",
       "      <th>0</th>\n",
       "      <td>D31.32</td>\n",
       "      <td>.8 MM DIA VERT  .5 MM DIA HORZ Choroidal nevus</td>\n",
       "    </tr>\n",
       "    <tr>\n",
       "      <th>1</th>\n",
       "      <td>H35.712</td>\n",
       "      <td>() Chronic Central Serous Chorioretinopathy</td>\n",
       "    </tr>\n",
       "    <tr>\n",
       "      <th>2</th>\n",
       "      <td>H35.32</td>\n",
       "      <td>() Neovascular AMD</td>\n",
       "    </tr>\n",
       "    <tr>\n",
       "      <th>3</th>\n",
       "      <td>H33.323</td>\n",
       "      <td>(2) Atrophic Retinal Holes</td>\n",
       "    </tr>\n",
       "    <tr>\n",
       "      <th>4</th>\n",
       "      <td>H33.311</td>\n",
       "      <td>(2) Horseshoe Tears  s/p laser 2002</td>\n",
       "    </tr>\n",
       "    <tr>\n",
       "      <th>5</th>\n",
       "      <td>H33.301</td>\n",
       "      <td>(2) Treated Retinal Tears  s/p Barrier Laser o...</td>\n",
       "    </tr>\n",
       "    <tr>\n",
       "      <th>6</th>\n",
       "      <td>H33.301</td>\n",
       "      <td>(2) Treated Retinal Tears  s/p laser demarcati...</td>\n",
       "    </tr>\n",
       "    <tr>\n",
       "      <th>7</th>\n",
       "      <td>H33.001</td>\n",
       "      <td>(2nd) Retinal Detachment</td>\n",
       "    </tr>\n",
       "    <tr>\n",
       "      <th>8</th>\n",
       "      <td>H33.311</td>\n",
       "      <td>(3) Treated horseshoe retinal tears  s/p Laser...</td>\n",
       "    </tr>\n",
       "    <tr>\n",
       "      <th>9</th>\n",
       "      <td>H33.301</td>\n",
       "      <td>(3) Treated Retinal Tears  each associated wit...</td>\n",
       "    </tr>\n",
       "  </tbody>\n",
       "</table>\n",
       "</div>"
      ],
      "text/plain": [
       "     label                                            message\n",
       "0   D31.32     .8 MM DIA VERT  .5 MM DIA HORZ Choroidal nevus\n",
       "1  H35.712        () Chronic Central Serous Chorioretinopathy\n",
       "2   H35.32                                 () Neovascular AMD\n",
       "3  H33.323                         (2) Atrophic Retinal Holes\n",
       "4  H33.311                (2) Horseshoe Tears  s/p laser 2002\n",
       "5  H33.301  (2) Treated Retinal Tears  s/p Barrier Laser o...\n",
       "6  H33.301  (2) Treated Retinal Tears  s/p laser demarcati...\n",
       "7  H33.001                           (2nd) Retinal Detachment\n",
       "8  H33.311  (3) Treated horseshoe retinal tears  s/p Laser...\n",
       "9  H33.301  (3) Treated Retinal Tears  each associated wit..."
      ]
     },
     "execution_count": 8,
     "metadata": {},
     "output_type": "execute_result"
    }
   ],
   "source": [
    "df.head(10)"
   ]
  },
  {
   "cell_type": "code",
   "execution_count": 9,
   "metadata": {
    "scrolled": false
   },
   "outputs": [
    {
     "data": {
      "text/plain": [
       "H35.32                                 5468\n",
       "H33.001                                2178\n",
       "H35.3211                               2155\n",
       "H33.002                                2098\n",
       "H35.3221                               1961\n",
       "E11.351                                1375\n",
       "H33.301                                1235\n",
       "H33.302                                1185\n",
       "H35.81                                 1160\n",
       "H35.3231                               1102\n",
       "H35.371                                1090\n",
       "H35.372                                1009\n",
       "E11.3513  Z79.4                         961\n",
       "H35.3212                                956\n",
       "H35.3222                                918\n",
       "E11.351  Z79.4                          886\n",
       "H43.12                                  882\n",
       "H35.31                                  877\n",
       "H43.11                                  846\n",
       "H35.3232                                804\n",
       "H33.321                                 801\n",
       "H35.351                                 792\n",
       "H35.352                                 773\n",
       "H35.341                                 759\n",
       "H33.322                                 757\n",
       "H33.41                                  747\n",
       "H35.342                                 733\n",
       "H33.42                                  691\n",
       "H33.011                                 691\n",
       "H33.311                                 673\n",
       "                                       ... \n",
       "E11.3291  E11.3392                        1\n",
       "E11.3411  E11.3532  E11.3512  Z79.4       1\n",
       "E10.3511  E10.3531  E10.3592              1\n",
       "H18.019                                   1\n",
       "E10.3311  E10.3512  E10.3522              1\n",
       "H10.019                                   1\n",
       "E10.3411  E10.3312  Z79.4                 1\n",
       "H25.823                                   1\n",
       "E10.3311  E10.3292                        1\n",
       "E11.341  E11.311  Z79.4                   1\n",
       "H02.32  H02.35                            1\n",
       "E11.3211  E11.3292  E11.3411              1\n",
       "H02.419                                   1\n",
       "E11.3513  E11.3521  E11.3522  Z79.4       1\n",
       "H40.242                                   1\n",
       "E11.3291*                                 1\n",
       "E11.3411  E11.3512  E11.3522              1\n",
       "E11.3213  E11.3213  E11.3512              1\n",
       "E11.3291  E11.3512  Z79.4                 1\n",
       "E11.3522  E11.3591                        1\n",
       "E11.351  E11.339  Z79.4                   1\n",
       "H02.521  H02.524                          1\n",
       "H43.811  Z79.4                            1\n",
       "E11.3511  E11.3392  E11.37X2              1\n",
       "E10.311  E10.311                          1\n",
       "E11.3511  E11.3552  Z79.4                 1\n",
       "E11.3521  E11.3492                        1\n",
       "H04.331                                   1\n",
       "E11.311  E11.3211                         1\n",
       "H02.026                                   1\n",
       "Name: label, Length: 2732, dtype: int64"
      ]
     },
     "execution_count": 9,
     "metadata": {},
     "output_type": "execute_result"
    }
   ],
   "source": [
    "df.label.value_counts()"
   ]
  },
  {
   "cell_type": "code",
   "execution_count": 10,
   "metadata": {},
   "outputs": [],
   "source": [
    "import collections\n",
    "from collections import Counter"
   ]
  },
  {
   "cell_type": "code",
   "execution_count": 11,
   "metadata": {},
   "outputs": [],
   "source": [
    "vocab = Counter(data_class).most_common()"
   ]
  },
  {
   "cell_type": "code",
   "execution_count": 12,
   "metadata": {
    "scrolled": true
   },
   "outputs": [],
   "source": [
    "import numpy as np\n",
    "# print(vocab[0])\n",
    "vocab = np.array([word for word, _ in vocab])"
   ]
  },
  {
   "cell_type": "code",
   "execution_count": 13,
   "metadata": {},
   "outputs": [],
   "source": [
    "df['label_num']=df.label.map({\n",
    "    word:code for code, word in enumerate(vocab)\n",
    "})"
   ]
  },
  {
   "cell_type": "code",
   "execution_count": 14,
   "metadata": {},
   "outputs": [
    {
     "data": {
      "text/html": [
       "<div>\n",
       "<style scoped>\n",
       "    .dataframe tbody tr th:only-of-type {\n",
       "        vertical-align: middle;\n",
       "    }\n",
       "\n",
       "    .dataframe tbody tr th {\n",
       "        vertical-align: top;\n",
       "    }\n",
       "\n",
       "    .dataframe thead th {\n",
       "        text-align: right;\n",
       "    }\n",
       "</style>\n",
       "<table border=\"1\" class=\"dataframe\">\n",
       "  <thead>\n",
       "    <tr style=\"text-align: right;\">\n",
       "      <th></th>\n",
       "      <th>label</th>\n",
       "      <th>message</th>\n",
       "      <th>label_num</th>\n",
       "    </tr>\n",
       "  </thead>\n",
       "  <tbody>\n",
       "    <tr>\n",
       "      <th>0</th>\n",
       "      <td>D31.32</td>\n",
       "      <td>.8 MM DIA VERT  .5 MM DIA HORZ Choroidal nevus</td>\n",
       "      <td>48</td>\n",
       "    </tr>\n",
       "    <tr>\n",
       "      <th>1</th>\n",
       "      <td>H35.712</td>\n",
       "      <td>() Chronic Central Serous Chorioretinopathy</td>\n",
       "      <td>59</td>\n",
       "    </tr>\n",
       "    <tr>\n",
       "      <th>2</th>\n",
       "      <td>H35.32</td>\n",
       "      <td>() Neovascular AMD</td>\n",
       "      <td>0</td>\n",
       "    </tr>\n",
       "    <tr>\n",
       "      <th>3</th>\n",
       "      <td>H33.323</td>\n",
       "      <td>(2) Atrophic Retinal Holes</td>\n",
       "      <td>115</td>\n",
       "    </tr>\n",
       "    <tr>\n",
       "      <th>4</th>\n",
       "      <td>H33.311</td>\n",
       "      <td>(2) Horseshoe Tears  s/p laser 2002</td>\n",
       "      <td>29</td>\n",
       "    </tr>\n",
       "    <tr>\n",
       "      <th>5</th>\n",
       "      <td>H33.301</td>\n",
       "      <td>(2) Treated Retinal Tears  s/p Barrier Laser o...</td>\n",
       "      <td>6</td>\n",
       "    </tr>\n",
       "    <tr>\n",
       "      <th>6</th>\n",
       "      <td>H33.301</td>\n",
       "      <td>(2) Treated Retinal Tears  s/p laser demarcati...</td>\n",
       "      <td>6</td>\n",
       "    </tr>\n",
       "    <tr>\n",
       "      <th>7</th>\n",
       "      <td>H33.001</td>\n",
       "      <td>(2nd) Retinal Detachment</td>\n",
       "      <td>1</td>\n",
       "    </tr>\n",
       "    <tr>\n",
       "      <th>8</th>\n",
       "      <td>H33.311</td>\n",
       "      <td>(3) Treated horseshoe retinal tears  s/p Laser...</td>\n",
       "      <td>29</td>\n",
       "    </tr>\n",
       "    <tr>\n",
       "      <th>9</th>\n",
       "      <td>H33.301</td>\n",
       "      <td>(3) Treated Retinal Tears  each associated wit...</td>\n",
       "      <td>6</td>\n",
       "    </tr>\n",
       "  </tbody>\n",
       "</table>\n",
       "</div>"
      ],
      "text/plain": [
       "     label                                            message  label_num\n",
       "0   D31.32     .8 MM DIA VERT  .5 MM DIA HORZ Choroidal nevus         48\n",
       "1  H35.712        () Chronic Central Serous Chorioretinopathy         59\n",
       "2   H35.32                                 () Neovascular AMD          0\n",
       "3  H33.323                         (2) Atrophic Retinal Holes        115\n",
       "4  H33.311                (2) Horseshoe Tears  s/p laser 2002         29\n",
       "5  H33.301  (2) Treated Retinal Tears  s/p Barrier Laser o...          6\n",
       "6  H33.301  (2) Treated Retinal Tears  s/p laser demarcati...          6\n",
       "7  H33.001                           (2nd) Retinal Detachment          1\n",
       "8  H33.311  (3) Treated horseshoe retinal tears  s/p Laser...         29\n",
       "9  H33.301  (3) Treated Retinal Tears  each associated wit...          6"
      ]
     },
     "execution_count": 14,
     "metadata": {},
     "output_type": "execute_result"
    }
   ],
   "source": [
    "df.head(10)"
   ]
  },
  {
   "cell_type": "code",
   "execution_count": 15,
   "metadata": {},
   "outputs": [
    {
     "name": "stdout",
     "output_type": "stream",
     "text": [
      "(90490,)\n",
      "(90490,)\n"
     ]
    }
   ],
   "source": [
    "# Scikit Learn\n",
    "X = df.message\n",
    "y = df.label_num\n",
    "print(X.shape)\n",
    "print(y.shape)"
   ]
  },
  {
   "cell_type": "code",
   "execution_count": 16,
   "metadata": {},
   "outputs": [
    {
     "name": "stdout",
     "output_type": "stream",
     "text": [
      "(67867,)\n",
      "(22623,)\n",
      "(67867,)\n",
      "(22623,)\n"
     ]
    },
    {
     "name": "stderr",
     "output_type": "stream",
     "text": [
      "/home/clustrex-1/anaconda3/lib/python3.6/site-packages/sklearn/cross_validation.py:41: DeprecationWarning: This module was deprecated in version 0.18 in favor of the model_selection module into which all the refactored classes and functions are moved. Also note that the interface of the new CV iterators are different from that of this module. This module will be removed in 0.20.\n",
      "  \"This module will be removed in 0.20.\", DeprecationWarning)\n"
     ]
    }
   ],
   "source": [
    "from sklearn.cross_validation import train_test_split\n",
    "X_train, X_test, y_train, y_test = train_test_split(X, y, random_state=1)\n",
    "print(X_train.shape)\n",
    "print(X_test.shape)\n",
    "print(y_train.shape)\n",
    "print(y_test.shape)"
   ]
  },
  {
   "cell_type": "code",
   "execution_count": 17,
   "metadata": {},
   "outputs": [
    {
     "data": {
      "text/plain": [
       "<67867x7298 sparse matrix of type '<class 'numpy.int64'>'\n",
       "\twith 355568 stored elements in Compressed Sparse Row format>"
      ]
     },
     "execution_count": 17,
     "metadata": {},
     "output_type": "execute_result"
    }
   ],
   "source": [
    "X_train_dtm = vect.fit_transform(X_train)\n",
    "\n",
    "X_train_dtm"
   ]
  },
  {
   "cell_type": "code",
   "execution_count": 18,
   "metadata": {},
   "outputs": [
    {
     "data": {
      "text/plain": [
       "<22623x7298 sparse matrix of type '<class 'numpy.int64'>'\n",
       "\twith 117516 stored elements in Compressed Sparse Row format>"
      ]
     },
     "execution_count": 18,
     "metadata": {},
     "output_type": "execute_result"
    }
   ],
   "source": [
    "X_test_dtm = vect.transform(X_test)\n",
    "\n",
    "X_test_dtm"
   ]
  },
  {
   "cell_type": "code",
   "execution_count": 19,
   "metadata": {},
   "outputs": [],
   "source": [
    "from sklearn.naive_bayes import MultinomialNB\n",
    "nb = MultinomialNB()"
   ]
  },
  {
   "cell_type": "code",
   "execution_count": 20,
   "metadata": {},
   "outputs": [
    {
     "name": "stdout",
     "output_type": "stream",
     "text": [
      "CPU times: user 1.8 s, sys: 844 ms, total: 2.64 s\n",
      "Wall time: 2.74 s\n"
     ]
    },
    {
     "data": {
      "text/plain": [
       "MultinomialNB(alpha=1.0, class_prior=None, fit_prior=True)"
      ]
     },
     "execution_count": 20,
     "metadata": {},
     "output_type": "execute_result"
    }
   ],
   "source": [
    "%time nb.fit(X_train_dtm, y_train)"
   ]
  },
  {
   "cell_type": "code",
   "execution_count": 21,
   "metadata": {},
   "outputs": [],
   "source": [
    "y_pred_class = nb.predict(X_test_dtm)"
   ]
  },
  {
   "cell_type": "code",
   "execution_count": 22,
   "metadata": {},
   "outputs": [
    {
     "data": {
      "text/plain": [
       "0.2903240065420148"
      ]
     },
     "execution_count": 22,
     "metadata": {},
     "output_type": "execute_result"
    }
   ],
   "source": [
    "from sklearn import metrics\n",
    "metrics.accuracy_score(y_test, y_pred_class)"
   ]
  },
  {
   "cell_type": "code",
   "execution_count": null,
   "metadata": {},
   "outputs": [],
   "source": []
  }
 ],
 "metadata": {
  "kernelspec": {
   "display_name": "Python 3",
   "language": "python",
   "name": "python3"
  },
  "language_info": {
   "codemirror_mode": {
    "name": "ipython",
    "version": 3
   },
   "file_extension": ".py",
   "mimetype": "text/x-python",
   "name": "python",
   "nbconvert_exporter": "python",
   "pygments_lexer": "ipython3",
   "version": "3.6.4"
  }
 },
 "nbformat": 4,
 "nbformat_minor": 2
}
