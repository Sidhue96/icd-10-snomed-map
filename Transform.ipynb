{
 "cells": [
  {
   "cell_type": "code",
   "execution_count": 1,
   "metadata": {},
   "outputs": [],
   "source": [
    "s1 = \"     hello    world    \""
   ]
  },
  {
   "cell_type": "code",
   "execution_count": 3,
   "metadata": {},
   "outputs": [],
   "source": [
    "s1=re.sub(' +',' ',s1).strip()"
   ]
  },
  {
   "cell_type": "code",
   "execution_count": 4,
   "metadata": {},
   "outputs": [
    {
     "data": {
      "text/plain": [
       "'hello world'"
      ]
     },
     "execution_count": 4,
     "metadata": {},
     "output_type": "execute_result"
    }
   ],
   "source": [
    "s1"
   ]
  },
  {
   "cell_type": "markdown",
   "metadata": {},
   "source": [
    "### START"
   ]
  },
  {
   "cell_type": "code",
   "execution_count": 27,
   "metadata": {},
   "outputs": [],
   "source": [
    "import re\n",
    "import csv"
   ]
  },
  {
   "cell_type": "code",
   "execution_count": 28,
   "metadata": {
    "scrolled": true
   },
   "outputs": [],
   "source": [
    "name = []\n",
    "icd10code = []\n",
    "snomedcode = []\n",
    "snomed_location = []\n",
    "location = []\n",
    "mydata = []\n",
    "with open('ICD10 - icd10_snomed.csv') as csvfile:\n",
    "    reader = csv.DictReader(csvfile)\n",
    "    for row in reader:\n",
    "        if row['name']:\n",
    "            if ((row['icd10code']) and (row['snomedcode']) and (row['snomed_location']) and (row['location'])):\n",
    "                name.append(re.sub(' +',' ',row['name']).strip())\n",
    "                icd10code.append(re.sub(' +',' ',row['icd10code']).strip())\n",
    "                snomedcode.append(re.sub(' +',' ',row['snomedcode']).strip())\n",
    "                snomed_location.append(re.sub(' +',' ',row['snomed_location']).strip())\n",
    "                location.append(re.sub(' +',' ',row['location']).strip())\n",
    "csvfile.close()"
   ]
  },
  {
   "cell_type": "code",
   "execution_count": 30,
   "metadata": {
    "scrolled": false
   },
   "outputs": [
    {
     "data": {
      "text/plain": [
       "90490"
      ]
     },
     "execution_count": 30,
     "metadata": {},
     "output_type": "execute_result"
    }
   ],
   "source": [
    "len(name)"
   ]
  },
  {
   "cell_type": "code",
   "execution_count": 31,
   "metadata": {},
   "outputs": [],
   "source": [
    "for i in range(90490):\n",
    "    curr = [name[i],icd10code[i],snomedcode[i],snomed_location[i],location[i]]\n",
    "    mydata.append(curr)"
   ]
  },
  {
   "cell_type": "code",
   "execution_count": 32,
   "metadata": {},
   "outputs": [
    {
     "data": {
      "text/plain": [
       "90490"
      ]
     },
     "execution_count": 32,
     "metadata": {},
     "output_type": "execute_result"
    }
   ],
   "source": [
    "len(mydata)"
   ]
  },
  {
   "cell_type": "code",
   "execution_count": 33,
   "metadata": {},
   "outputs": [
    {
     "data": {
      "text/plain": [
       "[['Amblyopia', 'H53.001', '387742006', '362502000', 'Right Eye'],\n",
       " ['Amblyopia', 'H53.002', '387742006', '362503005', 'Left Eye'],\n",
       " ['Amblyopia', 'H53.001', '387742006', '362502000', 'Right Eye'],\n",
       " ['Amblyopia', 'H53.001', '387742006', '362502000', 'Right Eye'],\n",
       " ['Amblyopia', 'H53.002', '387742006', '362503005', 'Left Eye'],\n",
       " ['Anterior Scleritis component',\n",
       "  'H15.012',\n",
       "  '63454000',\n",
       "  '362503005',\n",
       "  'Left Eye'],\n",
       " ['Aphakia', 'H27.02', '24010005', '362503005', 'Left Eye'],\n",
       " ['Asymptomatic Polypoidal Choroidal Vasculopathy',\n",
       "  'H35.051',\n",
       "  '25506007',\n",
       "  '362502000',\n",
       "  'Right Eye'],\n",
       " ['Benign Neoplasm Choroid/Choroidal Nevus',\n",
       "  'D31.31',\n",
       "  '92059004',\n",
       "  '362502000',\n",
       "  'Right Eye'],\n",
       " ['Branch Retinal Artery Occlusion',\n",
       "  'H34.231',\n",
       "  '50821009',\n",
       "  '362502000',\n",
       "  'Right Eye']]"
      ]
     },
     "execution_count": 33,
     "metadata": {},
     "output_type": "execute_result"
    }
   ],
   "source": [
    "mydata[:10]"
   ]
  },
  {
   "cell_type": "code",
   "execution_count": 34,
   "metadata": {},
   "outputs": [],
   "source": [
    "with open('Transform_ICD10.csv','w') as wfile:\n",
    "    writer = csv.writer(wfile,delimiter='|')\n",
    "    writer.writerow(['name','icd10code','snomedcode','snomed_location','location'])\n",
    "    writer.writerows(mydata)\n",
    "    wfile.close"
   ]
  },
  {
   "cell_type": "code",
   "execution_count": null,
   "metadata": {},
   "outputs": [],
   "source": []
  }
 ],
 "metadata": {
  "kernelspec": {
   "display_name": "Python 3",
   "language": "python",
   "name": "python3"
  },
  "language_info": {
   "codemirror_mode": {
    "name": "ipython",
    "version": 3
   },
   "file_extension": ".py",
   "mimetype": "text/x-python",
   "name": "python",
   "nbconvert_exporter": "python",
   "pygments_lexer": "ipython3",
   "version": "3.6.4"
  }
 },
 "nbformat": 4,
 "nbformat_minor": 2
}
