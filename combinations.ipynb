{
 "cells": [
  {
   "cell_type": "code",
   "execution_count": 1,
   "metadata": {},
   "outputs": [],
   "source": [
    "import csv"
   ]
  },
  {
   "cell_type": "code",
   "execution_count": 2,
   "metadata": {},
   "outputs": [],
   "source": [
    "from collections import defaultdict"
   ]
  },
  {
   "cell_type": "code",
   "execution_count": 3,
   "metadata": {},
   "outputs": [],
   "source": [
    "combinations = defaultdict(list)"
   ]
  },
  {
   "cell_type": "code",
   "execution_count": 14,
   "metadata": {},
   "outputs": [],
   "source": [
    "with open('input.csv') as csvfile:\n",
    "    reader = csv.DictReader(csvfile)\n",
    "    for row in reader:\n",
    "        index = row['snomedcode']+\"_\"+row['snomed_location']\n",
    "        if row['icd10code'] not in combinations[index]:\n",
    "            combinations[index].append(row['icd10code'])\n",
    "    csvfile.close()"
   ]
  },
  {
   "cell_type": "code",
   "execution_count": 15,
   "metadata": {},
   "outputs": [
    {
     "data": {
      "text/plain": [
       "1039"
      ]
     },
     "execution_count": 15,
     "metadata": {},
     "output_type": "execute_result"
    }
   ],
   "source": [
    "len(combinations)"
   ]
  },
  {
   "cell_type": "code",
   "execution_count": 39,
   "metadata": {},
   "outputs": [],
   "source": [
    "mydata = []\n",
    "for k,v in combinations.items():\n",
    "    myline = [v,k]\n",
    "    mydata.append(myline)\n",
    "with open('inputfile.csv','w') as wfile:\n",
    "    writer = csv.writer(wfile,delimiter='|')\n",
    "    writer.writerow(['Category','Descript'])\n",
    "    writer.writerows(mydata)\n",
    "    wfile.close"
   ]
  },
  {
   "cell_type": "code",
   "execution_count": 40,
   "metadata": {},
   "outputs": [
    {
     "data": {
      "text/plain": [
       "62705"
      ]
     },
     "execution_count": 40,
     "metadata": {},
     "output_type": "execute_result"
    }
   ],
   "source": [
    "len(snomedcode)"
   ]
  },
  {
   "cell_type": "code",
   "execution_count": 4,
   "metadata": {},
   "outputs": [],
   "source": [
    "data = defaultdict(list)\n",
    "with open('input.csv')as csvfile:\n",
    "    reader = csv.DictReader(csvfile)\n",
    "    for row in reader:\n",
    "        if row['name'] and row ['icd10code']:\n",
    "            data[row['name']+\" \"+row['location']].append(row['icd10code'])\n",
    "    csvfile.close()"
   ]
  },
  {
   "cell_type": "code",
   "execution_count": 5,
   "metadata": {},
   "outputs": [
    {
     "data": {
      "text/plain": [
       "71621"
      ]
     },
     "execution_count": 5,
     "metadata": {},
     "output_type": "execute_result"
    }
   ],
   "source": [
    "len(data)"
   ]
  },
  {
   "cell_type": "code",
   "execution_count": 9,
   "metadata": {},
   "outputs": [],
   "source": [
    "mydata = []\n",
    "for k,v in data.items():\n",
    "    k = k.replace(',',' ')\n",
    "    myline = [v[0],k]\n",
    "    mydata.append(myline)"
   ]
  },
  {
   "cell_type": "code",
   "execution_count": 10,
   "metadata": {},
   "outputs": [],
   "source": [
    "with open('train.csv','w')as wfile:\n",
    "    writer = csv.writer(wfile,delimiter='|')\n",
    "    writer.writerow(['Category','Descript'])\n",
    "    writer.writerows(mydata)\n",
    "    wfile.close"
   ]
  },
  {
   "cell_type": "code",
   "execution_count": 11,
   "metadata": {},
   "outputs": [
    {
     "data": {
      "text/plain": [
       "71621"
      ]
     },
     "execution_count": 11,
     "metadata": {},
     "output_type": "execute_result"
    }
   ],
   "source": [
    "len(mydata)"
   ]
  },
  {
   "cell_type": "code",
   "execution_count": 3,
   "metadata": {},
   "outputs": [
    {
     "name": "stdout",
     "output_type": "stream",
     "text": [
      "5.0\n"
     ]
    }
   ],
   "source": [
    "a = '2/3'\n",
    "a = a.split('/')\n",
    "c = float(a[0])+float(a[1])\n",
    "print(c)"
   ]
  },
  {
   "cell_type": "code",
   "execution_count": 23,
   "metadata": {},
   "outputs": [
    {
     "data": {
      "text/plain": [
       "20.0"
      ]
     },
     "execution_count": 23,
     "metadata": {},
     "output_type": "execute_result"
    }
   ],
   "source": [
    "import re\n",
    "strin = 'PH c &amp; sc 20/50+2'\n",
    "# [float(s) for s in re.findall(r'-?\\d+\\.?\\d*',strin)]\n",
    "strin = strin.split('/')\n",
    "s = [float(s) for s in re.findall(r'-?\\d+\\.?\\d*',strin[0])][-1]\n",
    "s\n",
    "# s = [float(s) for s in re.findall(r'-?\\d+\\.?\\d*',strin[1])][0]\n",
    "# s"
   ]
  },
  {
   "cell_type": "code",
   "execution_count": 24,
   "metadata": {},
   "outputs": [
    {
     "data": {
      "text/plain": [
       "1"
      ]
     },
     "execution_count": 24,
     "metadata": {},
     "output_type": "execute_result"
    }
   ],
   "source": [
    "a = 1.23333\n",
    "round(a)"
   ]
  },
  {
   "cell_type": "code",
   "execution_count": 40,
   "metadata": {},
   "outputs": [
    {
     "data": {
      "text/plain": [
       "True"
      ]
     },
     "execution_count": 40,
     "metadata": {},
     "output_type": "execute_result"
    }
   ],
   "source": [
    "a = 5.7\n",
    "b = '6'\n",
    "c = round(a) == int(b)\n",
    "c"
   ]
  },
  {
   "cell_type": "code",
   "execution_count": 4,
   "metadata": {},
   "outputs": [],
   "source": [
    "import re\n",
    "descript = []\n",
    "with open('test_transform.csv')as csvfile:\n",
    "    reader = csv.DictReader(csvfile)\n",
    "    for row in reader:\n",
    "        line = row['Descript'] + \" \" + row['location']\n",
    "        line = re.sub(' +',' ',line).strip()\n",
    "        descript.append(line)"
   ]
  },
  {
   "cell_type": "code",
   "execution_count": 5,
   "metadata": {},
   "outputs": [
    {
     "data": {
      "text/plain": [
       "204008"
      ]
     },
     "execution_count": 5,
     "metadata": {},
     "output_type": "execute_result"
    }
   ],
   "source": [
    "len(descript)"
   ]
  },
  {
   "cell_type": "code",
   "execution_count": 8,
   "metadata": {},
   "outputs": [
    {
     "data": {
      "text/plain": [
       "['Amaurosis Fugax',\n",
       " 'Amblyopia',\n",
       " 'Amblyopia Right Eye',\n",
       " 'Amblyopia Left Eye',\n",
       " 'Amblyopia',\n",
       " 'Amblyopia Right Eye',\n",
       " 'Amblyopia Right Eye',\n",
       " 'Amblyopia Left Eye',\n",
       " 'Anatomic Narrow Angles Both Eyes',\n",
       " 'Anatomic Narrow Angles']"
      ]
     },
     "execution_count": 8,
     "metadata": {},
     "output_type": "execute_result"
    }
   ],
   "source": [
    "descript[:10]"
   ]
  },
  {
   "cell_type": "code",
   "execution_count": 13,
   "metadata": {},
   "outputs": [],
   "source": [
    "mydata = []\n",
    "for d in descript:\n",
    "    mydata.append([d])"
   ]
  },
  {
   "cell_type": "code",
   "execution_count": 14,
   "metadata": {},
   "outputs": [
    {
     "data": {
      "text/plain": [
       "[['Amaurosis Fugax'],\n",
       " ['Amblyopia'],\n",
       " ['Amblyopia Right Eye'],\n",
       " ['Amblyopia Left Eye'],\n",
       " ['Amblyopia'],\n",
       " ['Amblyopia Right Eye'],\n",
       " ['Amblyopia Right Eye'],\n",
       " ['Amblyopia Left Eye'],\n",
       " ['Anatomic Narrow Angles Both Eyes'],\n",
       " ['Anatomic Narrow Angles']]"
      ]
     },
     "execution_count": 14,
     "metadata": {},
     "output_type": "execute_result"
    }
   ],
   "source": [
    "mydata[:10]"
   ]
  },
  {
   "cell_type": "code",
   "execution_count": 15,
   "metadata": {},
   "outputs": [
    {
     "data": {
      "text/plain": [
       "204008"
      ]
     },
     "execution_count": 15,
     "metadata": {},
     "output_type": "execute_result"
    }
   ],
   "source": [
    "len(mydata)"
   ]
  },
  {
   "cell_type": "code",
   "execution_count": 16,
   "metadata": {},
   "outputs": [],
   "source": [
    "with open('test.csv','w') as wfile:\n",
    "    writer = csv.writer(wfile,delimiter='|')\n",
    "    writer.writerow(['Descript'])\n",
    "    writer.writerows(mydata)\n",
    "    wfile.close"
   ]
  }
 ],
 "metadata": {
  "kernelspec": {
   "display_name": "Python 3",
   "language": "python",
   "name": "python3"
  },
  "language_info": {
   "codemirror_mode": {
    "name": "ipython",
    "version": 3
   },
   "file_extension": ".py",
   "mimetype": "text/x-python",
   "name": "python",
   "nbconvert_exporter": "python",
   "pygments_lexer": "ipython3",
   "version": "3.6.4"
  }
 },
 "nbformat": 4,
 "nbformat_minor": 2
}
